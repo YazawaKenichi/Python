{
 "cells": [
  {
   "cell_type": "code",
   "execution_count": 16,
   "id": "4a5ff24f",
   "metadata": {},
   "outputs": [
    {
     "name": "stdout",
     "output_type": "stream",
     "text": [
      "<div class=\"main-wrapper\" role=\"main\">\n",
      "<div class=\"header section\">\n",
      "<h1>\n",
      "<span class=\"error-description\">Access denied</span>\n",
      "<span class=\"code-label\">Error code <span>1020</span></span>\n",
      "</h1>\n",
      "<div class=\"large-font\">\n",
      "<p>You do not have access to buhidoh.net.</p><p>The site owner may have set restrictions that prevent you from accessing the site. Contact the site owner for access or try loading the page again.</p>\n",
      "</div>\n",
      "</div>\n",
      "</div>\n"
     ]
    }
   ],
   "source": [
    "import requests\n",
    "from bs4 import BeautifulSoup\n",
    "\n",
    "ADDRESS = 'http://buhidoh.net/blog-entry-44112.html'\n",
    "resp = requests.get(ADDRESS)\n",
    "data = resp.text\n",
    "souplxml = BeautifulSoup(data, 'lxml')\n",
    "soupdefault = BeautifulSoup(data, 'html.parser')\n",
    "print(soup.div)\n",
    "# ently_text = soup.div.div.div.find_all(class_ = 'ently_text')\n",
    "# print(\"response = \")\n",
    "# print(resp)\n",
    "# print(\"data = \")\n",
    "# print(data)\n",
    "# print(\"soupdefault = \")\n",
    "# print(soupdefault)\n",
    "# print(\"souplxml = \")\n",
    "# print(souplxml)\n",
    "# print(\"ently_text = \")\n",
    "# print(ently_text)\n"
   ]
  },
  {
   "cell_type": "markdown",
   "id": "6d41f0fc",
   "metadata": {},
   "source": [
    "### resp.text と BeautifulSoup(data, 'lxml') の違い。\n",
    "#### [文字列比較サイト](https://difff.jp/)を用いて、resp.text と BeautifulSoup(data, 'lxml') の違いを見てみた。\n",
    "resp.text は、サイトから返ってきたレスポンスのテキスト部分をただひたすらそのまま表したものとなっている。\n",
    "対して BeautifulSoup(data, 'lxml') は resp.text にインデントを付加したり、属性の順番を入れ替えたりして、HTML を理解しているように見える。これがパーサーの実力というやつか。\n",
    "lxml と html.parser でも比較してみたが、あんまり変わらなかった。\n",
    "敷いて言えば最初の行と最後の行の改行あたりが違うような印がでていたが、何が違うのか全くわからない。\n",
    "パーサーの違いは処理の違いであり、表現の違いには現れないのかもしれない。\n"
   ]
  }
 ],
 "metadata": {
  "kernelspec": {
   "display_name": "Python 3 (ipykernel)",
   "language": "python",
   "name": "python3"
  },
  "language_info": {
   "codemirror_mode": {
    "name": "ipython",
    "version": 3
   },
   "file_extension": ".py",
   "mimetype": "text/x-python",
   "name": "python",
   "nbconvert_exporter": "python",
   "pygments_lexer": "ipython3",
   "version": "3.9.12"
  }
 },
 "nbformat": 4,
 "nbformat_minor": 5
}
