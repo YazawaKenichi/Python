{
 "cells": [
  {
   "cell_type": "code",
   "execution_count": 13,
   "id": "5dee4c0b",
   "metadata": {},
   "outputs": [
    {
     "ename": "SyntaxError",
     "evalue": "invalid syntax (3461140012.py, line 17)",
     "output_type": "error",
     "traceback": [
      "\u001b[0;36m  Input \u001b[0;32mIn [13]\u001b[0;36m\u001b[0m\n\u001b[0;31m    if resp == data\u001b[0m\n\u001b[0m                   ^\u001b[0m\n\u001b[0;31mSyntaxError\u001b[0m\u001b[0;31m:\u001b[0m invalid syntax\n"
     ]
    }
   ],
   "source": [
    "import requests\n",
    "from bs4 import BeautifulSoup\n",
    "\n",
    "ADDRESS = 'http://buhidoh.net/blog-entry-44112.html'\n",
    "resp = requests.get(ADDRESS)\n",
    "data = resp.text\n",
    "soup = BeautifulSoup(data, 'lxml')\n",
    "ently_text = soup.div.div.div.find_all(class_ = 'ently_text')\n",
    "print(\"response = \")\n",
    "print(resp)\n",
    "print(\"data = \")\n",
    "print(data)\n",
    "print(\"beautifulsoup = \")\n",
    "print(soup)\n",
    "print(\"ently_text = \")\n",
    "print(ently_text)\n",
    "if resp == data:\n",
    "    print(\"resp == data\")\n",
    "if resp != data:\n",
    "    print(\"resp != data\")\n"
   ]
  },
  {
   "cell_type": "code",
   "execution_count": null,
   "id": "aea29c35",
   "metadata": {},
   "outputs": [],
   "source": []
  }
 ],
 "metadata": {
  "kernelspec": {
   "display_name": "Python 3 (ipykernel)",
   "language": "python",
   "name": "python3"
  },
  "language_info": {
   "codemirror_mode": {
    "name": "ipython",
    "version": 3
   },
   "file_extension": ".py",
   "mimetype": "text/x-python",
   "name": "python",
   "nbconvert_exporter": "python",
   "pygments_lexer": "ipython3",
   "version": "3.9.12"
  }
 },
 "nbformat": 4,
 "nbformat_minor": 5
}
