{
 "cells": [
  {
   "cell_type": "markdown",
   "id": "bf1b7b21",
   "metadata": {},
   "source": [
    "##### 文字列は str インスタンス\n",
    "##### 文字列の操作\n",
    "文字列.upper()    # 大文字に変換<br>\n",
    "文字列.lower()    # 小文字に変換<br>\n",
    "文字列.replace(検索文字列, 置換文字列 [, 回数])    # 検索文字列を置換文字列で置換することができる<br>\n",
    "##### 文字列の検査\n",
    "len(文字列)    # 文字数を得る<br>\n",
    "文字列.startswith(文字列 [, 開始位置] [, 終了位置])    # 指定の文字列で開始するか<br>\n",
    "文字列.endswith(文字列 [, 開始位置] [, 終了位置])    # 指定の文字列で終了するか<br>\n",
    "文字列が含まれているインデックス = 文字列.find(文字列 [, 開始位置] [, 終了位置])    # 文字列の検索<br>\n",
    "引数文字列で分割されたリスト = 文字列.split(文字列)    # 文字列をリストに分割<br>\n",
    "文字列.join(リスト)    # リストを文字列にまとめる    # 文字列はリストの要素と要素の間に入る<br>\n",
    "文字列.strip(文字列)    # 文字列内の引数文字列を削除    # 未指定で ' ', '　', '\\r', '\\n', '\\t', '\\v', '\\f' を削除<br>\n"
   ]
  }
 ],
 "metadata": {
  "kernelspec": {
   "display_name": "Python 3 (ipykernel)",
   "language": "python",
   "name": "python3"
  },
  "language_info": {
   "codemirror_mode": {
    "name": "ipython",
    "version": 3
   },
   "file_extension": ".py",
   "mimetype": "text/x-python",
   "name": "python",
   "nbconvert_exporter": "python",
   "pygments_lexer": "ipython3",
   "version": "3.9.12"
  }
 },
 "nbformat": 4,
 "nbformat_minor": 5
}
