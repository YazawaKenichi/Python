{
 "cells": [
  {
   "cell_type": "code",
   "execution_count": 1,
   "id": "58baeb5e",
   "metadata": {},
   "outputs": [
    {
     "name": "stdout",
     "output_type": "stream",
     "text": [
      "Hello\n"
     ]
    }
   ],
   "source": [
    "print(\"Hello\")"
   ]
  },
  {
   "cell_type": "code",
   "execution_count": 3,
   "id": "59042396",
   "metadata": {},
   "outputs": [],
   "source": [
    "mylist = [\"Orange\", \"Peach\", \"Lemon\"]"
   ]
  },
  {
   "cell_type": "code",
   "execution_count": null,
   "id": "c7d09cfd",
   "metadata": {},
   "outputs": [],
   "source": [
    "for val in mylist:\n",
    "    print(val)"
   ]
  },
  {
   "cell_type": "markdown",
   "id": "b084ff7a",
   "metadata": {},
   "source": [
    "これは何\n",
    "なんですか"
   ]
  },
  {
   "cell_type": "markdown",
   "id": "6bc0ba78",
   "metadata": {},
   "source": [
    "ほげほげ\n"
   ]
  },
  {
   "cell_type": "markdown",
   "id": "3359ceaf",
   "metadata": {},
   "source": [
    "[矢澤の github](https://github.com/yazawakenichi)"
   ]
  },
  {
   "cell_type": "markdown",
   "id": "4cce1872",
   "metadata": {},
   "source": [
    "なるほどね\n",
    "完全に理解した"
   ]
  },
  {
   "cell_type": "code",
   "execution_count": null,
   "id": "50850233",
   "metadata": {},
   "outputs": [],
   "source": []
  }
 ],
 "metadata": {
  "kernelspec": {
   "display_name": "Python 3 (ipykernel)",
   "language": "python",
   "name": "python3"
  },
  "language_info": {
   "codemirror_mode": {
    "name": "ipython",
    "version": 3
   },
   "file_extension": ".py",
   "mimetype": "text/x-python",
   "name": "python",
   "nbconvert_exporter": "python",
   "pygments_lexer": "ipython3",
   "version": "3.9.12"
  }
 },
 "nbformat": 4,
 "nbformat_minor": 5
}
