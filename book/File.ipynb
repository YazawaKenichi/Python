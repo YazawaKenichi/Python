{
 "cells": [
  {
   "cell_type": "markdown",
   "id": "a7f603ff",
   "metadata": {},
   "source": [
    "### ファイル処理\n",
    "#### 1. ファイルを開く\n",
    "open(FILEPATH, mode, buffering, encoding, errors, newline, closefd, opener)\n",
    "<table>\n",
    "    <tr><th>FILEPATH</th><td>アクセスするファイルのパスを文字列で指定する。</td></tr>\n",
    "    <tr><th>mode</th><td>アクセスのモードを示す。二つ以上の値を組み合わせて書くことも可能。</td></tr>\n",
    "    <tr><th>buffering</th><td>ファイルを読み込む時にテキストエンコーディングを指定するもの。</td></tr>\n",
    "    <tr><th>encoding</th><td>バッファリングの設定を行うもの。</td></tr>\n",
    "    <tr><th>errors</th><td>エラーの扱いを指定するもの。</td></tr>\n",
    "    <tr><th>newline</th><td>改行文字の設定。</td></tr>\n",
    "    <tr><th>closefd</th><td>ファイルのクローズに関する挙動の設定。</td></tr>\n",
    "    <tr><th>opener</th><td>ファイルを開くための処理を記述した関数を指定。</td></tr>\n",
    "</table>\n",
    "mode =\n",
    "<table>\n",
    "    <tr><th>'r'</th><td>読み込み専用で開く。</td></tr>\n",
    "    <tr><th>'w'</th><td>書き込み専用で開く。（ファイルがある場合は上書き）</td></tr>\n",
    "    <tr><th>'x'</th><td>書き込み専用で開く。（ファイルがある場合は失敗）</td></tr>\n",
    "    <tr><th>'a'</th><td>書き込み専用で開く。（ファイルがある場合は末尾に追加）</td></tr>\n",
    "    <tr><th>'b'</th><td>バイナリモードで開く。</td></tr>\n",
    "    <tr><th>'t'</th><td>テキストモードで開く。</td></tr>\n",
    "    <tr><th>'+'</th><td>更新用に開く。</td></tr>\n",
    "</table>\n",
    "buffering =\n",
    "<table>\n",
    "    <tr><th>0</th><td>バッファリングをオフにする。</td></tr>\n",
    "    <tr><th>1</th><td>行単位でバッファリングする。（テキストモードのみ）</td></tr>\n",
    "    <tr><th>2 以上</th><td>指定のバイト数でバッファリング。</td></tr>\n",
    "</table>\n",
    "errors =\n",
    "<table>\n",
    "    <tr><th>'struct'</th><td>ValueError を発生させる。</td></tr>\n",
    "    <tr><th>'ignore'</th><td>無視する。</td></tr>\n",
    "    <tr><th>'replace'</th><td>テキストモードで、失敗した箇所に \"?\" を挿入する。</td></tr>\n",
    "</table>\n",
    "\n",
    "``` Python\n",
    "with open(引数) as ファイルオブジェクト:\n",
    "とすることでプログラムの実行が中断された際に開いたファイルも閉じてくれる。\n",
    "```\n",
    "#### 2. 値を読み書きする\n",
    "ファイルオブジェクト.write(値)    # 値を書き込む<br>\n",
    "ファイルオブジェクト.read()    # 全部の文字列をまとめて読み込む<br>\n",
    "ファイルオブジェクト[インデックス番号]    # 一行ずつテキストファイルを読み込む<br>\n",
    "\n",
    "#### 3. ファイルを閉じる\n",
    "ファイルオブジェクト.close()\n"
   ]
  }
 ],
 "metadata": {
  "kernelspec": {
   "display_name": "Python 3 (ipykernel)",
   "language": "python",
   "name": "python3"
  },
  "language_info": {
   "codemirror_mode": {
    "name": "ipython",
    "version": 3
   },
   "file_extension": ".py",
   "mimetype": "text/x-python",
   "name": "python",
   "nbconvert_exporter": "python",
   "pygments_lexer": "ipython3",
   "version": "3.9.12"
  }
 },
 "nbformat": 4,
 "nbformat_minor": 5
}
